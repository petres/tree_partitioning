{
 "cells": [
  {
   "cell_type": "code",
   "execution_count": 1,
   "metadata": {
    "collapsed": false
   },
   "outputs": [
    {
     "name": "stdout",
     "output_type": "stream",
     "text": [
      "Shape: (5390165, 2)\n"
     ]
    }
   ],
   "source": [
    "import pandas as pd\n",
    "\n",
    "name = 'bio01i'\n",
    "\n",
    "csvFileName = \"/home/peter/Projects/wifo/data/productspace/patent/{}-tree-base.csv\".format(name)\n",
    "\n",
    "df = pd.read_csv(csvFileName)\n",
    "# Drop numbers\n",
    "df.drop(\"Unnamed: 0\", axis=1, inplace=True)\n",
    "df.head()\n",
    "print(\"Shape:\", df.shape)"
   ]
  },
  {
   "cell_type": "code",
   "execution_count": 2,
   "metadata": {
    "collapsed": false
   },
   "outputs": [
    {
     "data": {
      "text/html": [
       "<div>\n",
       "<table border=\"1\" class=\"dataframe\">\n",
       "  <thead>\n",
       "    <tr style=\"text-align: right;\">\n",
       "      <th></th>\n",
       "      <th>appln_id</th>\n",
       "      <th>ipc</th>\n",
       "      <th>ipc1</th>\n",
       "      <th>ipc3</th>\n",
       "      <th>ipc4</th>\n",
       "      <th>ipc8</th>\n",
       "    </tr>\n",
       "  </thead>\n",
       "  <tbody>\n",
       "    <tr>\n",
       "      <th>0</th>\n",
       "      <td>12</td>\n",
       "      <td>B01J0021/10</td>\n",
       "      <td>B</td>\n",
       "      <td>B01</td>\n",
       "      <td>B01J</td>\n",
       "      <td>B01J0021</td>\n",
       "    </tr>\n",
       "    <tr>\n",
       "      <th>1</th>\n",
       "      <td>12</td>\n",
       "      <td>B01J0023/00</td>\n",
       "      <td>B</td>\n",
       "      <td>B01</td>\n",
       "      <td>B01J</td>\n",
       "      <td>B01J0023</td>\n",
       "    </tr>\n",
       "    <tr>\n",
       "      <th>2</th>\n",
       "      <td>12</td>\n",
       "      <td>B01J0023/08</td>\n",
       "      <td>B</td>\n",
       "      <td>B01</td>\n",
       "      <td>B01J</td>\n",
       "      <td>B01J0023</td>\n",
       "    </tr>\n",
       "    <tr>\n",
       "      <th>3</th>\n",
       "      <td>12</td>\n",
       "      <td>B01J0023/22</td>\n",
       "      <td>B</td>\n",
       "      <td>B01</td>\n",
       "      <td>B01J</td>\n",
       "      <td>B01J0023</td>\n",
       "    </tr>\n",
       "    <tr>\n",
       "      <th>4</th>\n",
       "      <td>12</td>\n",
       "      <td>B01J0023/28</td>\n",
       "      <td>B</td>\n",
       "      <td>B01</td>\n",
       "      <td>B01J</td>\n",
       "      <td>B01J0023</td>\n",
       "    </tr>\n",
       "  </tbody>\n",
       "</table>\n",
       "</div>"
      ],
      "text/plain": [
       "   appln_id          ipc ipc1 ipc3  ipc4      ipc8\n",
       "0        12  B01J0021/10    B  B01  B01J  B01J0021\n",
       "1        12  B01J0023/00    B  B01  B01J  B01J0023\n",
       "2        12  B01J0023/08    B  B01  B01J  B01J0023\n",
       "3        12  B01J0023/22    B  B01  B01J  B01J0023\n",
       "4        12  B01J0023/28    B  B01  B01J  B01J0023"
      ]
     },
     "execution_count": 2,
     "metadata": {},
     "output_type": "execute_result"
    }
   ],
   "source": [
    "#substrdf['ipc']\n",
    "hierarchy_digits = [1, 3, 4, 8, '']\n",
    "for d in hierarchy_digits[:-1]:\n",
    "    df['ipc{}'.format(d)] = df.ipc.str[:d]\n",
    "df.head()"
   ]
  },
  {
   "cell_type": "code",
   "execution_count": 3,
   "metadata": {
    "collapsed": false
   },
   "outputs": [
    {
     "name": "stdout",
     "output_type": "stream",
     "text": [
      "B\n",
      "C\n",
      "G\n",
      "A\n",
      "D\n",
      "H\n",
      "E\n",
      "F\n"
     ]
    }
   ],
   "source": [
    "from tree_partitioning import *\n",
    "\n",
    "root = Node(\"root\")\n",
    "\n",
    "def add_nodes(node, data, step = 0):\n",
    "    if step == len(hierarchy_digits):\n",
    "        node.weight = data.shape[0]\n",
    "        return \n",
    "    col_name = 'ipc{}'.format(hierarchy_digits[step])\n",
    "    for v in data[col_name].unique():\n",
    "        if step < 1:\n",
    "            print(\"-\" * step + v)\n",
    "        t = Node(v)\n",
    "        node.add_child(t)\n",
    "        add_nodes(t, data[data[col_name] == v], step = step + 1)\n",
    "\n",
    "add_nodes(root, df)"
   ]
  },
  {
   "cell_type": "code",
   "execution_count": 4,
   "metadata": {
    "collapsed": false
   },
   "outputs": [
    {
     "name": "stdout",
     "output_type": "stream",
     "text": [
      "Weight: 5390165.0\n"
     ]
    }
   ],
   "source": [
    "weight = root.calc_subtree_weights()\n",
    "print(\"Weight:\", weight)\n",
    "if df.shape[0] != weight:\n",
    "    raise Exception(\"Double counts!\")"
   ]
  },
  {
   "cell_type": "code",
   "execution_count": 17,
   "metadata": {
    "collapsed": false
   },
   "outputs": [
    {
     "name": "stdout",
     "output_type": "stream",
     "text": [
      "Error: 219401399403.0\n",
      "Partition Count: 1493\n"
     ]
    }
   ],
   "source": [
    "target_weight = 10000\n",
    "\n",
    "e, p = root.find_partition(target_weight=target_weight)\n",
    "print(\"Error:\", e)\n",
    "print(\"Partition Count:\", len(p))\n",
    "#print(\"\\n\".join(str(subtree) for subtree in p))\n",
    "#print(\"\\n\".join(subtree.name, subtree.weight for subtree in p))\n"
   ]
  },
  {
   "cell_type": "code",
   "execution_count": 18,
   "metadata": {
    "collapsed": false
   },
   "outputs": [
    {
     "name": "stdout",
     "output_type": "stream",
     "text": [
      "[root -> 0] Name: B, Weight: 83905.0\n",
      "[root -> 1] Name: C, Weight: 2664690.0\n",
      "[root -> 2] Name: G, Weight: 614746.0\n",
      "[root -> 1 -> 1] Name: C12, Weight: 1818200.0\n",
      "[root -> 1 -> 1 -> 0] Name: C12N, Weight: 1087027.0\n",
      "[root -> 1 -> 1 -> 0 -> 6] Name: C12N0003, Weight: 401.0\n"
     ]
    }
   ],
   "source": [
    "print(root.children[0])\n",
    "print(root.children[1])\n",
    "print(root.children[2])\n",
    "\n",
    "print(root.children[1].children[1])\n",
    "print(root.children[1].children[1].children[0])\n",
    "print(root.children[1].children[1].children[0].children[6])"
   ]
  },
  {
   "cell_type": "code",
   "execution_count": 19,
   "metadata": {
    "collapsed": false
   },
   "outputs": [],
   "source": [
    "import csv\n",
    "with open('classification-{}-{}.csv'.format(target_weight, name), 'w') as f:\n",
    "    writer = csv.writer(f)\n",
    "    for subtree in p:\n",
    "        writer.writerow([subtree.name, subtree.weight])"
   ]
  }
 ],
 "metadata": {
  "kernelspec": {
   "display_name": "Python 3",
   "language": "python",
   "name": "python3"
  },
  "language_info": {
   "codemirror_mode": {
    "name": "ipython",
    "version": 3
   },
   "file_extension": ".py",
   "mimetype": "text/x-python",
   "name": "python",
   "nbconvert_exporter": "python",
   "pygments_lexer": "ipython3",
   "version": "3.5.2"
  }
 },
 "nbformat": 4,
 "nbformat_minor": 0
}
